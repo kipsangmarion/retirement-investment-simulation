{
  "nbformat": 4,
  "nbformat_minor": 0,
  "metadata": {
    "colab": {
      "provenance": [],
      "toc_visible": true,
      "authorship_tag": "ABX9TyPd5wUQW6kjVnVRV0On0twr",
      "include_colab_link": true
    },
    "kernelspec": {
      "name": "python3",
      "display_name": "Python 3"
    },
    "language_info": {
      "name": "python"
    }
  },
  "cells": [
    {
      "cell_type": "markdown",
      "metadata": {
        "id": "view-in-github",
        "colab_type": "text"
      },
      "source": [
        "<a href=\"https://colab.research.google.com/github/kipsangmarion/retirement-investment-simulation/blob/master/Retirement_planning_simulation.ipynb\" target=\"_parent\"><img src=\"https://colab.research.google.com/assets/colab-badge.svg\" alt=\"Open In Colab\"/></a>"
      ]
    },
    {
      "cell_type": "markdown",
      "source": [
        "# RETIREMENT PLANNING SIMULATION"
      ],
      "metadata": {
        "id": "QQmZs08MyvZt"
      }
    },
    {
      "cell_type": "markdown",
      "source": [
        "##1. Problem Definition"
      ],
      "metadata": {
        "id": "xfOY27PZy87j"
      }
    },
    {
      "cell_type": "markdown",
      "source": [
        "Consider an individual planning for retirement and aiming to assess whether\n",
        "their current retirement savings, contributions, and investment strategy are\n",
        "sufficient to meet their financial needs during retirement. The individual is\n",
        "unsure about future market returns and how long they will live, making retirement planning subject to uncertainties. One would need a comprehensive model to assess their financial posistion subject to all uncertainities and determine whether they are ready for retirement."
      ],
      "metadata": {
        "id": "ShiLwZJfzufr"
      }
    },
    {
      "cell_type": "markdown",
      "source": [
        "##2. Mathematical Model"
      ],
      "metadata": {
        "id": "fmSeA4SRzE8i"
      }
    },
    {
      "cell_type": "markdown",
      "source": [
        "##3. Input Distribution"
      ],
      "metadata": {
        "id": "xlhH6VeQzYE2"
      }
    },
    {
      "cell_type": "markdown",
      "source": [
        "##4. Random Sampling"
      ],
      "metadata": {
        "id": "F8SltkRPzoG0"
      }
    },
    {
      "cell_type": "code",
      "execution_count": null,
      "metadata": {
        "id": "F1XfIvlZytu8"
      },
      "outputs": [],
      "source": [
        "import numpy as np\n",
        "\n",
        "\n",
        "# Function to simulate retirement journey and calculate fund balance\n",
        "def retirement_simulation(initial_balance, monthly_contribution, retirement_expenses,\n",
        "                          retirement_duration, investment_returns, inflation_rates,\n",
        "                          lifespan, tax_rate, social_security_benefit):\n",
        "    num_months = retirement_duration * 12\n",
        "    balance = initial_balance\n",
        "    social_security_months = 12 * (lifespan - retirement_duration)\n",
        "\n",
        "    for month in range(num_months):\n",
        "        # Adjust contributions and expenses for inflation\n",
        "        real_monthly_contribution = monthly_contribution * (1 + inflation_rates[month] / 12)\n",
        "        real_retirement_expenses = retirement_expenses * (1 + inflation_rates[month] / 12)\n",
        "\n",
        "        # Calculate investment return for the month\n",
        "        investment_return = np.random.normal(investment_returns[month] / 12, investment_returns.std() / np.sqrt(12))\n",
        "\n",
        "        # Apply taxes on investment returns\n",
        "        after_tax_return = investment_return * (1 - tax_rate)\n",
        "\n",
        "        # Update balance for the month\n",
        "        balance = balance * (1 + after_tax_return) + real_monthly_contribution - real_retirement_expenses\n",
        "\n",
        "        # Consider Social Security benefits\n",
        "        if month >= social_security_months:\n",
        "            balance += social_security_benefit / 12\n",
        "\n",
        "        # Check if the individual outlives their retirement duration\n",
        "        if month >= lifespan * 12:\n",
        "            break\n",
        "\n",
        "    return balance\n",
        "\n",
        "\n",
        "# Main Monte Carlo simulation function\n",
        "def monte_carlo_retirement_simulation(num_simulations, initial_balance, monthly_contribution,\n",
        "                                      retirement_expenses, retirement_duration,\n",
        "                                      investment_returns_mean, investment_returns_volatility,\n",
        "                                      inflation_rate_mean, inflation_rate_volatility,\n",
        "                                      lifespan, tax_rate, social_security_benefit):\n",
        "    results = []\n",
        "\n",
        "    for _ in range(num_simulations):\n",
        "        # Generate random investment returns and inflation rates for each month\n",
        "        investment_returns = np.random.normal(investment_returns_mean, investment_returns_volatility, retirement_duration * 12)\n",
        "        inflation_rates = np.random.normal(inflation_rate_mean, inflation_rate_volatility, retirement_duration * 12)\n",
        "\n",
        "        balance = retirement_simulation(initial_balance, monthly_contribution, retirement_expenses,\n",
        "                                        retirement_duration, investment_returns, inflation_rates,\n",
        "                                        lifespan, tax_rate, social_security_benefit)\n",
        "        results.append(balance)\n",
        "\n",
        "    return results\n",
        "\n",
        "\n",
        "# Input parameters for the simulation\n",
        "num_simulations = 10000\n",
        "initial_balance = 500000\n",
        "monthly_contribution = 3000\n",
        "retirement_expenses = 4000\n",
        "retirement_duration = 30\n",
        "investment_returns_mean = 0.06\n",
        "investment_returns_volatility = 0.12\n",
        "inflation_rate_mean = 0.02\n",
        "inflation_rate_volatility = 0.005\n",
        "lifespan = 85\n",
        "tax_rate = 0.15\n",
        "social_security_benefit = 2000  # Monthly Social Security benefit\n",
        "\n",
        "# Run the Monte Carlo simulation\n",
        "simulation_results = monte_carlo_retirement_simulation(num_simulations, initial_balance, monthly_contribution,\n",
        "                                                       retirement_expenses, retirement_duration,\n",
        "                                                       investment_returns_mean, investment_returns_volatility,\n",
        "                                                       inflation_rate_mean, inflation_rate_volatility,\n",
        "                                                       lifespan, tax_rate, social_security_benefit)\n",
        "\n",
        "# Calculate the probability of retirement savings lasting until the end of retirement\n",
        "probability_success = sum(result >= 0 for result in simulation_results) / num_simulations\n",
        "\n",
        "print(f\"Probability of retirement savings lasting until the end of retirement: {probability_success:.2f}\")"
      ]
    }
  ]
}